{
  "nbformat": 4,
  "nbformat_minor": 0,
  "metadata": {
    "colab": {
      "name": "News Classification.ipynb",
      "provenance": [],
      "authorship_tag": "ABX9TyMhWfz6Vc9vjx/XWhewcu5/",
      "include_colab_link": true
    },
    "kernelspec": {
      "name": "python3",
      "display_name": "Python 3"
    },
    "language_info": {
      "name": "python"
    }
  },
  "cells": [
    {
      "cell_type": "markdown",
      "metadata": {
        "id": "view-in-github",
        "colab_type": "text"
      },
      "source": [
        "<a href=\"https://colab.research.google.com/github/adimis-dev/News-Classification/blob/main/News_Classification.ipynb\" target=\"_parent\"><img src=\"https://colab.research.google.com/assets/colab-badge.svg\" alt=\"Open In Colab\"/></a>"
      ]
    },
    {
      "cell_type": "code",
      "execution_count": 1,
      "metadata": {
        "colab": {
          "base_uri": "https://localhost:8080/"
        },
        "id": "KTzdJn8HhCUV",
        "outputId": "2509d0aa-189a-4781-f36c-d350d6d18fcc"
      },
      "outputs": [
        {
          "output_type": "stream",
          "name": "stdout",
          "text": [
            "   category filename                              title  \\\n",
            "0  business  001.txt  Ad sales boost Time Warner profit   \n",
            "1  business  002.txt   Dollar gains on Greenspan speech   \n",
            "2  business  003.txt  Yukos unit buyer faces loan claim   \n",
            "3  business  004.txt  High fuel prices hit BA's profits   \n",
            "4  business  005.txt  Pernod takeover talk lifts Domecq   \n",
            "\n",
            "                                             content  \n",
            "0   Quarterly profits at US media giant TimeWarne...  \n",
            "1   The dollar has hit its highest level against ...  \n",
            "2   The owners of embattled Russian oil giant Yuk...  \n",
            "3   British Airways has blamed high fuel prices f...  \n",
            "4   Shares in UK drinks and food firm Allied Dome...  \n"
          ]
        }
      ],
      "source": [
        "import pandas as pd\n",
        "import numpy as np\n",
        "from sklearn.feature_extraction.text import CountVectorizer\n",
        "from sklearn.model_selection import train_test_split\n",
        "from sklearn.naive_bayes import MultinomialNB\n",
        "\n",
        "data = pd.read_csv(\"https://raw.githubusercontent.com/amankharwal/Website-data/master/bbc-news-data.csv\", sep='\\t')\n",
        "print(data.head())"
      ]
    },
    {
      "cell_type": "code",
      "source": [
        "data.isnull().sum()"
      ],
      "metadata": {
        "colab": {
          "base_uri": "https://localhost:8080/"
        },
        "id": "nUVLUrgnhKLW",
        "outputId": "bc9df5bf-349e-418c-894f-d2a7d01cd2af"
      },
      "execution_count": 2,
      "outputs": [
        {
          "output_type": "execute_result",
          "data": {
            "text/plain": [
              "category    0\n",
              "filename    0\n",
              "title       0\n",
              "content     0\n",
              "dtype: int64"
            ]
          },
          "metadata": {},
          "execution_count": 2
        }
      ]
    },
    {
      "cell_type": "code",
      "source": [
        "data[\"category\"].value_counts()"
      ],
      "metadata": {
        "colab": {
          "base_uri": "https://localhost:8080/"
        },
        "id": "bTs36G1AhNut",
        "outputId": "dbfe20a5-d639-4bef-f29f-8149ca13d3fe"
      },
      "execution_count": 3,
      "outputs": [
        {
          "output_type": "execute_result",
          "data": {
            "text/plain": [
              "sport            511\n",
              "business         510\n",
              "politics         417\n",
              "tech             401\n",
              "entertainment    386\n",
              "Name: category, dtype: int64"
            ]
          },
          "metadata": {},
          "execution_count": 3
        }
      ]
    },
    {
      "cell_type": "code",
      "source": [
        "data = data[[\"title\", \"category\"]]\n",
        "\n",
        "x = np.array(data[\"title\"])\n",
        "y = np.array(data[\"category\"])\n",
        "\n",
        "cv = CountVectorizer()\n",
        "X = cv.fit_transform(x)\n",
        "X_train, X_test, y_train, y_test = train_test_split(X, y, test_size=0.33, random_state=42)"
      ],
      "metadata": {
        "id": "fIYJNTy1hQYb"
      },
      "execution_count": 4,
      "outputs": []
    },
    {
      "cell_type": "code",
      "source": [
        "model = MultinomialNB()\n",
        "model.fit(X_train,y_train)"
      ],
      "metadata": {
        "colab": {
          "base_uri": "https://localhost:8080/"
        },
        "id": "RaFBLHcWhTng",
        "outputId": "d779f920-b1ca-4a2a-d0a5-af3907e295f5"
      },
      "execution_count": 5,
      "outputs": [
        {
          "output_type": "execute_result",
          "data": {
            "text/plain": [
              "MultinomialNB()"
            ]
          },
          "metadata": {},
          "execution_count": 5
        }
      ]
    },
    {
      "cell_type": "code",
      "source": [
        "user = input(\"Enter a Text: \")\n",
        "data = cv.transform([user]).toarray()\n",
        "output = model.predict(data)\n",
        "print(output)"
      ],
      "metadata": {
        "colab": {
          "base_uri": "https://localhost:8080/"
        },
        "id": "J6ntQdUehVwr",
        "outputId": "a56142b2-75ab-417a-d9a4-86dd6714de48"
      },
      "execution_count": 6,
      "outputs": [
        {
          "output_type": "stream",
          "name": "stdout",
          "text": [
            "Enter a Text: Latest Apple iPhone SE 3 concept renders show a compact smartphone in the style of the iPhone 4\n",
            "['tech']\n"
          ]
        }
      ]
    }
  ]
}